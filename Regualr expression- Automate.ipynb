{
 "cells": [
  {
   "cell_type": "markdown",
   "metadata": {},
   "source": [
    "# Regular expression"
   ]
  },
  {
   "cell_type": "code",
   "execution_count": 1,
   "metadata": {},
   "outputs": [
    {
     "name": "stdout",
     "output_type": "stream",
     "text": [
      "Phone number found 412-999-4244\n"
     ]
    }
   ],
   "source": [
    "#! python3\n",
    "# Find phone no using Regex\n",
    "\n",
    "import re\n",
    "noRegx=re.compile(r'\\d\\d\\d-\\d\\d\\d-\\d\\d\\d\\d')\n",
    "\n",
    "no=noRegx.search('My number is 412-999-4244')\n",
    "print('Phone number found',no.group())"
   ]
  },
  {
   "cell_type": "code",
   "execution_count": 2,
   "metadata": {},
   "outputs": [
    {
     "name": "stdout",
     "output_type": "stream",
     "text": [
      "Phone number found 412\n",
      "Phone number found 999-4244\n"
     ]
    }
   ],
   "source": [
    "#Using paranthesis to separate the groups\n",
    "import re\n",
    "noRegx=re.compile(r'(\\d\\d\\d)-(\\d\\d\\d-\\d\\d\\d\\d)')\n",
    "\n",
    "no=noRegx.search('My number is 412-999-4244')\n",
    "print('Phone number found',no.group(1))\n",
    "print('Phone number found',no.group(2))"
   ]
  },
  {
   "cell_type": "code",
   "execution_count": 3,
   "metadata": {},
   "outputs": [
    {
     "name": "stdout",
     "output_type": "stream",
     "text": [
      "Bagu\n"
     ]
    }
   ],
   "source": [
    "#Pipe | is same as or operation\n",
    "reg=re.compile(r'Bagu|bibi') \n",
    "name=reg.search('Bagu or bibi')\n",
    "print(name.group())\n"
   ]
  },
  {
   "cell_type": "code",
   "execution_count": 4,
   "metadata": {},
   "outputs": [
    {
     "name": "stdout",
     "output_type": "stream",
     "text": [
      "batman\n"
     ]
    }
   ],
   "source": [
    "#To get words starting with same char's\n",
    "fin=re.compile(r'bat(man|ball|girl)')\n",
    "mo=fin.search(\"I'm a batman wanna play batball\")\n",
    "\n",
    "print(mo.group())"
   ]
  },
  {
   "cell_type": "markdown",
   "metadata": {},
   "source": [
    "# Optional matching with ?"
   ]
  },
  {
   "cell_type": "code",
   "execution_count": 5,
   "metadata": {},
   "outputs": [
    {
     "name": "stdout",
     "output_type": "stream",
     "text": [
      "Batwoman\n"
     ]
    }
   ],
   "source": [
    "bat=re.compile(r'Bat(wo)?man')\n",
    "grp=bat.search('Im a Batwoman')\n",
    "print(grp.group())"
   ]
  },
  {
   "cell_type": "code",
   "execution_count": 6,
   "metadata": {},
   "outputs": [
    {
     "name": "stdout",
     "output_type": "stream",
     "text": [
      "Phone number found 412-999-4244\n"
     ]
    }
   ],
   "source": [
    "\n",
    "import re\n",
    "noRegx=re.compile(r'(\\d\\d\\d-)?\\d\\d\\d-\\d\\d\\d\\d')\n",
    "\n",
    "no=noRegx.search('My number is 412-999-4244')\n",
    "print('Phone number found',no.group())"
   ]
  },
  {
   "cell_type": "code",
   "execution_count": 7,
   "metadata": {},
   "outputs": [
    {
     "name": "stdout",
     "output_type": "stream",
     "text": [
      "Phone number found 999-4244\n"
     ]
    }
   ],
   "source": [
    "no=noRegx.search('My number is 999-4244')\n",
    "print('Phone number found',no.group())"
   ]
  },
  {
   "cell_type": "markdown",
   "metadata": {},
   "source": [
    "# Matching zero or more with *"
   ]
  },
  {
   "cell_type": "code",
   "execution_count": 8,
   "metadata": {},
   "outputs": [
    {
     "name": "stdout",
     "output_type": "stream",
     "text": [
      "Number found 123\n"
     ]
    }
   ],
   "source": [
    "import re\n",
    "noRegx=re.compile(r'12*3')\n",
    "\n",
    "no=noRegx.search('123')\n",
    "print('Number found',no.group())"
   ]
  },
  {
   "cell_type": "code",
   "execution_count": 9,
   "metadata": {},
   "outputs": [
    {
     "name": "stdout",
     "output_type": "stream",
     "text": [
      "Number found 13\n"
     ]
    }
   ],
   "source": [
    "no=noRegx.search('13')\n",
    "print('Number found',no.group())"
   ]
  },
  {
   "cell_type": "code",
   "execution_count": 10,
   "metadata": {},
   "outputs": [
    {
     "name": "stdout",
     "output_type": "stream",
     "text": [
      "Number found 1222223\n"
     ]
    }
   ],
   "source": [
    "no=noRegx.search('1222223')\n",
    "print('Number found',no.group())"
   ]
  },
  {
   "cell_type": "code",
   "execution_count": 12,
   "metadata": {},
   "outputs": [
    {
     "name": "stdout",
     "output_type": "stream",
     "text": [
      "Number found 13\n"
     ]
    }
   ],
   "source": [
    "no=noRegx.search('1213')\n",
    "print('Number found',no.group())"
   ]
  },
  {
   "cell_type": "markdown",
   "metadata": {},
   "source": [
    "# Matching one or more with +"
   ]
  },
  {
   "cell_type": "code",
   "execution_count": 13,
   "metadata": {},
   "outputs": [
    {
     "name": "stdout",
     "output_type": "stream",
     "text": [
      "Number found 123\n"
     ]
    }
   ],
   "source": [
    "import re\n",
    "noRegx=re.compile(r'12+3')\n",
    "\n",
    "no=noRegx.search('123')\n",
    "print('Number found',no.group())"
   ]
  },
  {
   "cell_type": "code",
   "execution_count": 16,
   "metadata": {},
   "outputs": [
    {
     "name": "stdout",
     "output_type": "stream",
     "text": [
      "Number found 1222223\n"
     ]
    }
   ],
   "source": [
    "no=noRegx.search('1222223')\n",
    "print('Number found',no.group())"
   ]
  },
  {
   "cell_type": "markdown",
   "metadata": {},
   "source": [
    "# Matching specific no of repetition using {}"
   ]
  },
  {
   "cell_type": "code",
   "execution_count": 19,
   "metadata": {},
   "outputs": [
    {
     "name": "stdout",
     "output_type": "stream",
     "text": [
      "Match found HaHaHa\n"
     ]
    }
   ],
   "source": [
    "noRegx=re.compile(r'(Ha){3}')\n",
    "\n",
    "no=noRegx.search('HaHaHa is a way of expression laughter')\n",
    "print('Match found',no.group())"
   ]
  },
  {
   "cell_type": "code",
   "execution_count": 20,
   "metadata": {},
   "outputs": [
    {
     "name": "stdout",
     "output_type": "stream",
     "text": [
      "Match found HaHaHaHaHa\n"
     ]
    }
   ],
   "source": [
    "noRegx=re.compile(r'(Ha){3,5}')    #{min,max} minimum & max no of repetitions allowed\n",
    "\n",
    "no=noRegx.search('HaHaHaHaHa is a way of expression laughter')\n",
    "print('Match found',no.group())"
   ]
  },
  {
   "cell_type": "code",
   "execution_count": 21,
   "metadata": {},
   "outputs": [
    {
     "name": "stdout",
     "output_type": "stream",
     "text": [
      "Match found HaHaHaHaHaHaHaHaHaHa\n"
     ]
    }
   ],
   "source": [
    "noRegx=re.compile(r'(Ha){5,}')    #{min,max} minimum & max no of repetitions allowed\n",
    "\n",
    "no=noRegx.search('HaHaHaHaHaHaHaHaHaHa is a way of expression laughter')\n",
    "print('Match found',no.group())"
   ]
  },
  {
   "cell_type": "code",
   "execution_count": 22,
   "metadata": {},
   "outputs": [
    {
     "name": "stdout",
     "output_type": "stream",
     "text": [
      "Match found HaHaHa\n"
     ]
    }
   ],
   "source": [
    "noRegx=re.compile(r'(Ha){3,5}?')    #{min,max} minimum & max no of repetitions allowed\n",
    "\n",
    "#using ? gives non greedy exp which matches the shortest pattern\n",
    "no=noRegx.search('HaHaHaHaHaHaHaHaHaHa is a way of expression laughter')\n",
    "print('Match found',no.group())"
   ]
  },
  {
   "cell_type": "markdown",
   "metadata": {},
   "source": [
    "**It gives the 3 match which is the minimum no specified**"
   ]
  },
  {
   "cell_type": "markdown",
   "metadata": {},
   "source": [
    "# findall() method"
   ]
  },
  {
   "cell_type": "markdown",
   "metadata": {},
   "source": [
    "**As the search() gives only the first matching pattern, the findall() gives all the matching occurrences of the string**"
   ]
  },
  {
   "cell_type": "code",
   "execution_count": 27,
   "metadata": {},
   "outputs": [
    {
     "name": "stdout",
     "output_type": "stream",
     "text": [
      "Match found ['345-897', '879-345']\n"
     ]
    }
   ],
   "source": [
    "noRegx=re.compile(r'\\d*-\\d*')    #{min,max} minimum & max no of repetitions allowed\n",
    "\n",
    "#using ? gives non greedy exp which matches the shortest pattern\n",
    "no=noRegx.findall('345-897 is a code that is encoded into 879-345')\n",
    "print('Match found',no)"
   ]
  },
  {
   "cell_type": "markdown",
   "metadata": {},
   "source": [
    "# Character class "
   ]
  },
  {
   "cell_type": "markdown",
   "metadata": {},
   "source": [
    "**\\d \\D \\w \\W \\s \\S **"
   ]
  },
  {
   "cell_type": "code",
   "execution_count": 29,
   "metadata": {},
   "outputs": [
    {
     "name": "stdout",
     "output_type": "stream",
     "text": [
      "Match found ['2 bikes', '1 car']\n"
     ]
    }
   ],
   "source": [
    "noRegx=re.compile(r'\\d+\\s\\w+')    #{min,max} minimum & max no of repetitions allowed\n",
    "\n",
    "#using ? gives non greedy exp which matches the shortest pattern\n",
    "no=noRegx.findall('I have 2 bikes and 1 car')\n",
    "print('Match found',no)"
   ]
  },
  {
   "cell_type": "code",
   "execution_count": 31,
   "metadata": {},
   "outputs": [
    {
     "name": "stdout",
     "output_type": "stream",
     "text": [
      "Match found [' ', ' ', '2', ' ', ' ', ' ', '1', ' ']\n"
     ]
    }
   ],
   "source": [
    "noRegx=re.compile(r'[^a-zA-Z]')    #{min,max} minimum & max no of repetitions allowed\n",
    "\n",
    "#using ? gives non greedy exp which matches the shortest pattern\n",
    "no=noRegx.findall('I have 2 bikes and 1 car')\n",
    "print('Match found',no)"
   ]
  },
  {
   "cell_type": "markdown",
   "metadata": {},
   "source": [
    "# Match begin using ^ end using $"
   ]
  },
  {
   "cell_type": "code",
   "execution_count": 33,
   "metadata": {},
   "outputs": [
    {
     "name": "stdout",
     "output_type": "stream",
     "text": [
      "Match found True\n"
     ]
    }
   ],
   "source": [
    "noRegx=re.compile(r'^Hello')    #{min,max} minimum & max no of repetitions allowed\n",
    "\n",
    "#using ? gives non greedy exp which matches the shortest pattern\n",
    "no=noRegx.findall('Hello is a way of greeting')\n",
    "print('Match found',no!=None)"
   ]
  },
  {
   "cell_type": "code",
   "execution_count": 34,
   "metadata": {},
   "outputs": [
    {
     "name": "stdout",
     "output_type": "stream",
     "text": [
      "Match found True\n"
     ]
    }
   ],
   "source": [
    "noRegx=re.compile(r'Bye$')    #{min,max} minimum & max no of repetitions allowed\n",
    "\n",
    "#using ? gives non greedy exp which matches the shortest pattern\n",
    "no=noRegx.findall('Hello is a way of greeting,Bye')\n",
    "print('Match found',no!=None)"
   ]
  },
  {
   "cell_type": "markdown",
   "metadata": {},
   "source": [
    "# Match with . except \\n"
   ]
  },
  {
   "cell_type": "code",
   "execution_count": 36,
   "metadata": {},
   "outputs": [
    {
     "name": "stdout",
     "output_type": "stream",
     "text": [
      "Match found ['cat', 'hat', 'mat']\n"
     ]
    }
   ],
   "source": [
    "noRegx=re.compile(r'.at')    #.matches any character\n",
    "\n",
    "#using ? gives non greedy exp which matches the shortest pattern\n",
    "no=noRegx.findall('The cat wears a hat and sit on a mat')\n",
    "print('Match found',no)"
   ]
  },
  {
   "cell_type": "markdown",
   "metadata": {},
   "source": [
    "# Match everything with .*"
   ]
  },
  {
   "cell_type": "code",
   "execution_count": 37,
   "metadata": {},
   "outputs": [
    {
     "name": "stdout",
     "output_type": "stream",
     "text": [
      "Match found [('Bagavathy', 'Priya')]\n"
     ]
    }
   ],
   "source": [
    "noRegx=re.compile(r'First name: (.*) Last name: (.*)')    #.matches any character\n",
    "\n",
    "no=noRegx.findall('First name: Bagavathy Last name: Priya')\n",
    "print('Match found',no)"
   ]
  },
  {
   "cell_type": "markdown",
   "metadata": {},
   "source": [
    "**The .star matches everything except the \\n, so using DOTALL accepts the new line character**"
   ]
  },
  {
   "cell_type": "code",
   "execution_count": 38,
   "metadata": {},
   "outputs": [
    {
     "name": "stdout",
     "output_type": "stream",
     "text": [
      "Match found ['First name: Bagavathy\\n Last name: Priya', '']\n"
     ]
    }
   ],
   "source": [
    "noRegx=re.compile(r'(.*)',re.DOTALL)    #.matches any character\n",
    "\n",
    "no=noRegx.findall('First name: Bagavathy\\n Last name: Priya')\n",
    "print('Match found',no)"
   ]
  },
  {
   "cell_type": "markdown",
   "metadata": {},
   "source": [
    "# Case insensitive matching"
   ]
  },
  {
   "cell_type": "code",
   "execution_count": 39,
   "metadata": {},
   "outputs": [
    {
     "name": "stdout",
     "output_type": "stream",
     "text": [
      "Match found ['Priya']\n"
     ]
    }
   ],
   "source": [
    "noRegx=re.compile(r'PRIYA',re.I)    \n",
    "\n",
    "no=noRegx.findall('First name: Bagavathy\\n Last name: Priya')\n",
    "print('Match found',no)"
   ]
  },
  {
   "cell_type": "markdown",
   "metadata": {},
   "source": [
    "giving re.I matches irrespective of cases "
   ]
  },
  {
   "cell_type": "markdown",
   "metadata": {},
   "source": [
    "# Substituting strings"
   ]
  },
  {
   "cell_type": "code",
   "execution_count": 40,
   "metadata": {},
   "outputs": [
    {
     "name": "stdout",
     "output_type": "stream",
     "text": [
      "Match found Censored gave the doc to Censored\n"
     ]
    }
   ],
   "source": [
    "noRegx=re.compile(r'Agent \\w+',re.I)    \n",
    "\n",
    "no=noRegx.sub('Censored','Agent Bob gave the doc to agent priya')\n",
    "print('Match found',no)"
   ]
  },
  {
   "cell_type": "code",
   "execution_count": null,
   "metadata": {},
   "outputs": [],
   "source": []
  }
 ],
 "metadata": {
  "kernelspec": {
   "display_name": "Python 3",
   "language": "python",
   "name": "python3"
  },
  "language_info": {
   "codemirror_mode": {
    "name": "ipython",
    "version": 3
   },
   "file_extension": ".py",
   "mimetype": "text/x-python",
   "name": "python",
   "nbconvert_exporter": "python",
   "pygments_lexer": "ipython3",
   "version": "3.7.6"
  }
 },
 "nbformat": 4,
 "nbformat_minor": 4
}
